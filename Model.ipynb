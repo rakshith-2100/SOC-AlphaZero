{
 "cells": [
  {
   "cell_type": "code",
   "execution_count": 1,
   "id": "23ce0e58-2bae-42b5-9518-8e8fb78316a2",
   "metadata": {
    "tags": []
   },
   "outputs": [],
   "source": [
    "import chess \n",
    "import chess.pgn\n",
    "import numpy as np\n",
    "from random import shuffle\n",
    "import torch\n",
    "import torch.nn as nn\n",
    "import torch.optim as optim\n",
    "from torch.utils.data import Dataset, DataLoader\n",
    "from tqdm.notebook import trange\n",
    "from sklearn.model_selection import train_test_split"
   ]
  },
  {
   "cell_type": "markdown",
   "id": "20c055d4-b09f-45d0-ae1c-6b8df82f8918",
   "metadata": {},
   "source": [
    "# Data Loader"
   ]
  },
  {
   "cell_type": "code",
   "execution_count": 2,
   "id": "11ce1ab8-cb86-43b0-a018-76fc23000eac",
   "metadata": {
    "tags": []
   },
   "outputs": [],
   "source": [
    "class GameLoader():\n",
    "    def __init__(self):\n",
    "        pass\n",
    "    def labeling_Win_Loss(self,file_pth):\n",
    "        W_Win=[1]\n",
    "        W_label=[]\n",
    "        W_win,B_win=self.win_loss_classifier(file_pth)\n",
    "        for i in trange(len(W_win)):\n",
    "            W_label.append(W_Win)\n",
    "        B_Win=[0]\n",
    "        B_label=[]\n",
    "        for i in trange(len(B_win)):\n",
    "            B_label.append(B_Win)\n",
    "        return W_win,W_label,B_win,B_label\n",
    "    \n",
    "    def convert_to_tensor(self,W_win,B_win,W_label,B_label,device):\n",
    "        W_Win_tensor=torch.tensor(W_win,dtype=torch.float32,device=device)\n",
    "        W_label_tensor=torch.tensor(W_label,dtype=torch.float32,device=device)\n",
    "        B_win_tensor=torch.tensor(B_win,dtype=torch.float32,device=device)\n",
    "        B_label_tensor=torch.tensor(B_label,dtype=torch.float32,device=device)\n",
    "        return W_win_tensor,W_label_tensor,B_win_tensor,B_label_tensor\n",
    "    \n",
    "    def win_loss_classifier(self,file_pth):\n",
    "        pgn_file = open(file_pth)\n",
    "        W_win = []\n",
    "        B_win= []\n",
    "        i = 0\n",
    "        for i in trange(20000):\n",
    "            if i > 0:\n",
    "                game = chess.pgn.read_game(pgn_file)\n",
    "                if game.headers[\"Result\"] == \"1-0\":\n",
    "                    temp1 = self.randPosiGeneratorFromGame(game)\n",
    "                    W_win+= temp1\n",
    "                elif game.headers[\"Result\"] == \"0-1\":\n",
    "                    temp2 = self.randPosiGeneratorFromGame(game)\n",
    "                    B_win += temp2\n",
    "                if game is None:\n",
    "                    break\n",
    "            i = i + 1\n",
    "        pgn_file.close()\n",
    "        return W_win,B_win\n",
    "        \n",
    "    def randPosiGeneratorFromGame(self,game):\n",
    "        random_positions_array = []\n",
    "        positions = []\n",
    "        board = game.board()\n",
    "\n",
    "        for move in game.mainline_moves():\n",
    "            if not board.is_capture(move):\n",
    "                position = board.fen()\n",
    "                bitstring_position = self.fen_to_bitstring(position)\n",
    "                positions.append(bitstring_position)\n",
    "\n",
    "            board.push(move)\n",
    "            no_capture_posis = len(positions)\n",
    "        indices = list(range(5, no_capture_posis))\n",
    "        shuffle(indices)\n",
    "        selected_indices = indices[:15]\n",
    "        random_positions_array = [positions[index] for index in selected_indices]\n",
    "        return random_positions_array\n",
    "\n",
    "    def fen_to_bitstring(self,fen):\n",
    "        board = chess.Board(fen)\n",
    "        bitboard = np.zeros(64*6*2+5)\n",
    "        piece_idx = {'p': 0, 'n': 1, 'b': 2, 'r': 3, 'q': 4, 'k': 5}\n",
    "        for i in range(64):\n",
    "            if board.piece_at(i):\n",
    "                color = int(board.piece_at(i).color) + 1\n",
    "                bitboard[(piece_idx[board.piece_at(i).symbol().lower()] + i * 6) * color] = 1\n",
    "        bitboard[-1] = int(board.turn)\n",
    "        bitboard[-2] = int(board.has_kingside_castling_rights(True))\n",
    "        bitboard[-3] = int(board.has_kingside_castling_rights(False))\n",
    "        bitboard[-4] = int(board.has_queenside_castling_rights(True))\n",
    "        bitboard[-5] = int(board.has_queenside_castling_rights(False))\n",
    "        return bitboard"
   ]
  },
  {
   "cell_type": "code",
   "execution_count": 3,
   "id": "c9626e6a-4de3-4ce7-9b99-0ffe376e8dde",
   "metadata": {
    "tags": []
   },
   "outputs": [
    {
     "data": {
      "application/vnd.jupyter.widget-view+json": {
       "model_id": "d6ea4073fc0c4fba9406cf8ee03d5323",
       "version_major": 2,
       "version_minor": 0
      },
      "text/plain": [
       "  0%|          | 0/20000 [00:00<?, ?it/s]"
      ]
     },
     "metadata": {},
     "output_type": "display_data"
    },
    {
     "data": {
      "application/vnd.jupyter.widget-view+json": {
       "model_id": "74338d18283e47d2a9e6c14c62ca9d1f",
       "version_major": 2,
       "version_minor": 0
      },
      "text/plain": [
       "  0%|          | 0/110670 [00:00<?, ?it/s]"
      ]
     },
     "metadata": {},
     "output_type": "display_data"
    },
    {
     "data": {
      "application/vnd.jupyter.widget-view+json": {
       "model_id": "e0dce525ba8c4e5691089e353c4fa834",
       "version_major": 2,
       "version_minor": 0
      },
      "text/plain": [
       "  0%|          | 0/87269 [00:00<?, ?it/s]"
      ]
     },
     "metadata": {},
     "output_type": "display_data"
    }
   ],
   "source": [
    "Game_Load=GameLoader()\n",
    "W_win,W_label,B_win,B_label = Game_Load.labeling_Win_Loss(\"CCRL-404.[881513].pgn\")"
   ]
  },
  {
   "cell_type": "markdown",
   "id": "1ba4eca4-d173-4b35-bc34-4052d70259af",
   "metadata": {},
   "source": [
    "# Getting Weights"
   ]
  },
  {
   "cell_type": "code",
   "execution_count": 4,
   "id": "33808d73-66ac-4e68-97c1-f2f176d5d75f",
   "metadata": {},
   "outputs": [],
   "source": [
    "x=20000\n",
    "White_win=W_win[0:x]\n",
    "Black_win=B_win[0:x]\n",
    "White_label=W_label[0:x]\n",
    "Black_label=B_label[0:x]"
   ]
  },
  {
   "cell_type": "code",
   "execution_count": 5,
   "id": "91a72ed4-b396-4d07-81fa-07b71014ede3",
   "metadata": {
    "tags": []
   },
   "outputs": [
    {
     "data": {
      "text/plain": [
       "(20000, 773)"
      ]
     },
     "execution_count": 5,
     "metadata": {},
     "output_type": "execute_result"
    }
   ],
   "source": [
    "np.shape(White_win)"
   ]
  },
  {
   "cell_type": "code",
   "execution_count": 6,
   "id": "9cb8368b-8bfd-49cf-ab9c-9b2961d1819b",
   "metadata": {
    "tags": []
   },
   "outputs": [
    {
     "name": "stderr",
     "output_type": "stream",
     "text": [
      "C:\\Users\\MR_X\\AppData\\Local\\Temp\\ipykernel_2556\\1846430892.py:1: UserWarning: Creating a tensor from a list of numpy.ndarrays is extremely slow. Please consider converting the list to a single numpy.ndarray with numpy.array() before converting to a tensor. (Triggered internally at ..\\torch\\csrc\\utils\\tensor_new.cpp:248.)\n",
      "  White_win_tensor=torch.tensor(White_win,dtype=torch.float32)\n"
     ]
    }
   ],
   "source": [
    "White_win_tensor=torch.tensor(White_win,dtype=torch.float32)\n",
    "Black_win_tensor=torch.tensor(Black_win,dtype=torch.float32)"
   ]
  },
  {
   "cell_type": "code",
   "execution_count": 7,
   "id": "d2c12c79-389d-4488-ab89-028e633902d6",
   "metadata": {},
   "outputs": [],
   "source": [
    "encoder_data=torch.concatenate((White_win_tensor,Black_win_tensor),axis=0)"
   ]
  },
  {
   "cell_type": "code",
   "execution_count": 8,
   "id": "7b74fc6a-15ad-47a8-a880-518b16b038c5",
   "metadata": {},
   "outputs": [
    {
     "data": {
      "text/plain": [
       "40000"
      ]
     },
     "execution_count": 8,
     "metadata": {},
     "output_type": "execute_result"
    }
   ],
   "source": [
    "len(encoder_data)"
   ]
  },
  {
   "cell_type": "code",
   "execution_count": 9,
   "id": "cec70770-0b92-45e1-9b62-9a25ef98e535",
   "metadata": {
    "tags": []
   },
   "outputs": [],
   "source": [
    "class Autoencoders(nn.Module):\n",
    "    def __init__(self):\n",
    "        super(Autoencoders,self).__init__()\n",
    "        self.Layer1encoder=nn.Sequential(\n",
    "            nn.Linear(773,600),\n",
    "            nn.ReLU(),\n",
    "            nn.Linear(600,773)\n",
    "        )\n",
    "        self.Layer2encoder=nn.Sequential(\n",
    "            nn.Linear(773,600),\n",
    "            nn.ReLU(),\n",
    "            nn.Linear(600,400),\n",
    "            nn.ReLU(),\n",
    "            nn.Linear(400,600),\n",
    "            nn.ReLU(),\n",
    "            nn.Linear(600,773)\n",
    "        )\n",
    "        self.Layer3encoder=nn.Sequential(\n",
    "            nn.Linear(773,600),\n",
    "            nn.ReLU(),\n",
    "            nn.Linear(600,400),\n",
    "            nn.ReLU(),\n",
    "            nn.Linear(400,200),\n",
    "            nn.ReLU(),\n",
    "            nn.Linear(200,400),\n",
    "            nn.ReLU(),\n",
    "            nn.Linear(400,600),\n",
    "            nn.ReLU(),\n",
    "            nn.Linear(600,773)\n",
    "        )\n",
    "        self.Layer4encoder=nn.Sequential(\n",
    "            nn.Linear(773,600),\n",
    "            nn.ReLU(),\n",
    "            nn.Linear(600,400),\n",
    "            nn.ReLU(),\n",
    "            nn.Linear(400,200),\n",
    "            nn.ReLU(),\n",
    "            nn.Linear(200,100),\n",
    "            nn.ReLU(),\n",
    "            nn.Linear(100,200),\n",
    "            nn.ReLU(),\n",
    "            nn.Linear(200,400),\n",
    "            nn.ReLU(),\n",
    "            nn.Linear(400,600),\n",
    "            nn.ReLU(),\n",
    "            nn.Linear(600,773)\n",
    "        )\n",
    "    def GetWeights(self,input_data):\n",
    "        Weights=[]\n",
    "        loss=nn.MSELoss()\n",
    "        num_epochs=200\n",
    "        #1st layer\n",
    "        optimizer1=optim.SGD(self.Layer1encoder.parameters(),lr=0.001)\n",
    "        for epoch in trange(num_epochs):\n",
    "            output1=self.Layer1encoder(input_data)\n",
    "            loss1=loss(output1,input_data)\n",
    "            optimizer1.zero_grad()\n",
    "            loss1.backward()\n",
    "            optimizer1.step()\n",
    "        print(loss1)\n",
    "        Weight1=list(self.Layer1encoder.parameters())[0]\n",
    "        print(np.shape(Weight1))\n",
    "        Weights.append(Weight1)\n",
    "        \n",
    "        #2nd layer\n",
    "        optimizer2=optim.SGD(self.Layer2encoder.parameters(),lr=0.001)\n",
    "        for epoch in trange(num_epochs):\n",
    "            output2=self.Layer2encoder(input_data)\n",
    "            loss2=loss(output2,input_data)\n",
    "            optimizer2.zero_grad()\n",
    "            loss2.backward()\n",
    "            optimizer2.step()\n",
    "        print(loss2)\n",
    "        Weight2=list(self.Layer2encoder.parameters())[2]\n",
    "        print(np.shape(Weight2))\n",
    "        Weights.append(Weight2) \n",
    "        \n",
    "        #3rd layer\n",
    "        optimizer3=optim.SGD(self.Layer3encoder.parameters(),lr=0.001)\n",
    "        for epoch in trange(num_epochs):\n",
    "            output3=self.Layer3encoder(input_data)\n",
    "            loss3=loss(output3,input_data)\n",
    "            optimizer3.zero_grad()\n",
    "            loss3.backward()\n",
    "            optimizer3.step()\n",
    "        print(loss3)\n",
    "        Weight3=list(self.Layer3encoder.parameters())[4]\n",
    "        print(np.shape(Weight3))\n",
    "        Weights.append(Weight3) \n",
    "        \n",
    "        #4th layer\n",
    "        optimizer4=optim.SGD(self.Layer4encoder.parameters(),lr=0.001)\n",
    "        for epoch in trange(num_epochs):\n",
    "            output4=self.Layer4encoder(input_data)\n",
    "            loss4=loss(output4,input_data)\n",
    "            optimizer4.zero_grad()\n",
    "            loss4.backward()\n",
    "            optimizer4.step()\n",
    "        print(loss4)\n",
    "        Weight4=list(self.Layer4encoder.parameters())[6]\n",
    "        print(np.shape(Weight4))\n",
    "        Weights.append(Weight4) \n",
    "        \n",
    "        return Weights"
   ]
  },
  {
   "cell_type": "code",
   "execution_count": 10,
   "id": "19e603d6-f874-40e3-b62c-b10b8d744f80",
   "metadata": {},
   "outputs": [
    {
     "data": {
      "application/vnd.jupyter.widget-view+json": {
       "model_id": "034645d8c2994138b914dccd91cb5ab7",
       "version_major": 2,
       "version_minor": 0
      },
      "text/plain": [
       "  0%|          | 0/200 [00:00<?, ?it/s]"
      ]
     },
     "metadata": {},
     "output_type": "display_data"
    },
    {
     "name": "stdout",
     "output_type": "stream",
     "text": [
      "tensor(0.0299, grad_fn=<MseLossBackward0>)\n",
      "torch.Size([600, 773])\n"
     ]
    },
    {
     "data": {
      "application/vnd.jupyter.widget-view+json": {
       "model_id": "056edac5b5bf4fc4aa9744eab5cf8a90",
       "version_major": 2,
       "version_minor": 0
      },
      "text/plain": [
       "  0%|          | 0/200 [00:00<?, ?it/s]"
      ]
     },
     "metadata": {},
     "output_type": "display_data"
    },
    {
     "name": "stdout",
     "output_type": "stream",
     "text": [
      "tensor(0.0290, grad_fn=<MseLossBackward0>)\n",
      "torch.Size([400, 600])\n"
     ]
    },
    {
     "data": {
      "application/vnd.jupyter.widget-view+json": {
       "model_id": "5834dca7fec24d179bdd7110827f44de",
       "version_major": 2,
       "version_minor": 0
      },
      "text/plain": [
       "  0%|          | 0/200 [00:00<?, ?it/s]"
      ]
     },
     "metadata": {},
     "output_type": "display_data"
    },
    {
     "name": "stdout",
     "output_type": "stream",
     "text": [
      "tensor(0.0287, grad_fn=<MseLossBackward0>)\n",
      "torch.Size([200, 400])\n"
     ]
    },
    {
     "data": {
      "application/vnd.jupyter.widget-view+json": {
       "model_id": "92bffd298b834f04893c5648525e3b80",
       "version_major": 2,
       "version_minor": 0
      },
      "text/plain": [
       "  0%|          | 0/200 [00:00<?, ?it/s]"
      ]
     },
     "metadata": {},
     "output_type": "display_data"
    },
    {
     "name": "stdout",
     "output_type": "stream",
     "text": [
      "tensor(0.0287, grad_fn=<MseLossBackward0>)\n",
      "torch.Size([100, 200])\n"
     ]
    }
   ],
   "source": [
    "getWeights=Autoencoders()\n",
    "Weights=getWeights.GetWeights(encoder_data)"
   ]
  },
  {
   "cell_type": "markdown",
   "id": "7478aee8-943b-41f5-9a6e-4c741e83b6b9",
   "metadata": {},
   "source": [
    "# Model"
   ]
  },
  {
   "cell_type": "code",
   "execution_count": 11,
   "id": "7883a7d3-aa95-4fb8-9a10-1d7aca6b5ae7",
   "metadata": {},
   "outputs": [],
   "source": [
    "class Pos2Vec(nn.Module):\n",
    "    def __init__(self):\n",
    "        super(Pos2Vec, self).__init__()\n",
    "        self.weights1 = Weights[0]\n",
    "        self.weights2 = Weights[1]\n",
    "        self.weights3 = Weights[2]\n",
    "        self.weights4 = Weights[3]\n",
    "        self.encoder = nn.Sequential(\n",
    "            nn.Linear(773, 600),\n",
    "            nn.ReLU(),\n",
    "            nn.Linear(600, 400),\n",
    "            nn.ReLU(),\n",
    "            nn.Linear(400, 200),\n",
    "            nn.ReLU(),\n",
    "            nn.Linear(200, 100)\n",
    "        )\n",
    "        self.encoder[0].weight.data = self.weights1\n",
    "        self.encoder[2].weight.data = self.weights2\n",
    "        self.encoder[4].weight.data = self.weights3\n",
    "        self.encoder[6].weight.data = self.weights4\n",
    "    \n",
    "    def forward(self, x):\n",
    "        return self.encoder(x)"
   ]
  },
  {
   "cell_type": "code",
   "execution_count": 12,
   "id": "ba94115f-3339-46ae-bd9f-338ab0a38b5a",
   "metadata": {
    "tags": []
   },
   "outputs": [],
   "source": [
    "class DeepChess(nn.Module):\n",
    "    def __init__(self):\n",
    "        super(DeepChess, self).__init__()\n",
    "        self.pos2vec1 = Pos2Vec()\n",
    "        self.pos2vec2 = Pos2Vec()\n",
    "        self.fc_layers = nn.Sequential(\n",
    "            nn.Linear(200, 100),\n",
    "            nn.ReLU(),\n",
    "            nn.Linear(100, 2)\n",
    "        )\n",
    "    \n",
    "    def forward(self, x1, x2):\n",
    "        x1 = self.pos2vec1(x1)\n",
    "        x2 = self.pos2vec2(x2)\n",
    "        x = torch.cat((x1, x2), dim=1)\n",
    "        x = self.fc_layers(x)\n",
    "        return torch.softmax(x,dim=1)"
   ]
  },
  {
   "cell_type": "markdown",
   "id": "1fe0c121-dd3c-4337-92ff-5c0f44dbbf86",
   "metadata": {
    "tags": []
   },
   "source": [
    "# Training"
   ]
  },
  {
   "cell_type": "code",
   "execution_count": null,
   "id": "55012f0f-c848-40c5-9ecc-62d924ae6295",
   "metadata": {},
   "outputs": [],
   "source": [
    "class ChessPositionDataset(Dataset):\n",
    "    def __init__(self, W_win, B_win, W_label, B_label):\n",
    "        self.W_win = W_win\n",
    "        self.B_win = B_win\n",
    "        self.W_label = W_label\n",
    "        self.B_label = B_label\n",
    "    \n",
    "    def __len__(self):\n",
    "        return len(self.W_win)\n",
    "    \n",
    "    def __getitem__(self, index):\n",
    "        return self.W_win[index], self.B_win[index], self.W_label[index], self.B_label[index]"
   ]
  },
  {
   "cell_type": "code",
   "execution_count": 80,
   "id": "090e31bb-6d34-4fa8-8209-22fc73ee0c2d",
   "metadata": {
    "tags": []
   },
   "outputs": [],
   "source": [
    "White_win=W_win[20000:40000]\n",
    "Black_win=B_win[20000:40000]\n",
    "White_label=W_label[20000:40000]\n",
    "Black_label=B_label[20000:40000]\n",
    "for i in range(len(White_win)//2):\n",
    "    White_win[2*i],Black_win[2*i]=Black_win[2*i],White_win[2*i]\n",
    "    White_label[2*i],Black_label[2*i]=Black_label[2*i],White_label[2*i]"
   ]
  },
  {
   "cell_type": "code",
   "execution_count": 92,
   "id": "0c7c3abe-bd3e-4c5c-a713-5bd41c3c9fb3",
   "metadata": {},
   "outputs": [],
   "source": [
    "White_train, White_test,White_label_train ,White_label_test = train_test_split(White_win,\n",
    "                                                                               White_label,\n",
    "                                                                               test_size=0.1,shuffle=False)\n",
    "Black_train, Black_test,Black_label_train ,Black_label_test = train_test_split(Black_win,                                       \n",
    "                                                                               Black_label,\n",
    "                                                                               test_size=0.1,shuffle=False)"
   ]
  },
  {
   "cell_type": "code",
   "execution_count": 93,
   "id": "40e3da4e-af18-4950-b03a-3837f846bbc0",
   "metadata": {
    "tags": []
   },
   "outputs": [],
   "source": [
    "White_train=torch.tensor(White_train,dtype=torch.float32)\n",
    "Black_train=torch.tensor(Black_train,dtype=torch.float32)\n",
    "White_label_train=torch.tensor(White_label_train,dtype=torch.float32)\n",
    "Black_label_train=torch.tensor(Black_label_train,dtype=torch.float32)"
   ]
  },
  {
   "cell_type": "code",
   "execution_count": 94,
   "id": "74533af7-2370-4f27-b941-a5f505e269da",
   "metadata": {
    "tags": []
   },
   "outputs": [],
   "source": [
    "White_test=torch.tensor(White_test,dtype=torch.float32)\n",
    "Black_test=torch.tensor(Black_test,dtype=torch.float32)\n",
    "White_label_test=torch.tensor(White_label_test,dtype=torch.float32)\n",
    "Black_label_test=torch.tensor(Black_label_test,dtype=torch.float32)\n",
    "Label_test=torch.cat((White_label_test,Black_label_test),dim=1)"
   ]
  },
  {
   "cell_type": "code",
   "execution_count": 95,
   "id": "c2f89d3f-8c5f-4267-b5d3-3ba95f4a81a7",
   "metadata": {
    "tags": []
   },
   "outputs": [
    {
     "data": {
      "text/plain": [
       "tensor([[0., 1.],\n",
       "        [1., 0.],\n",
       "        [0., 1.],\n",
       "        ...,\n",
       "        [1., 0.],\n",
       "        [0., 1.],\n",
       "        [1., 0.]])"
      ]
     },
     "execution_count": 95,
     "metadata": {},
     "output_type": "execute_result"
    }
   ],
   "source": [
    "Label_test"
   ]
  },
  {
   "cell_type": "code",
   "execution_count": 96,
   "id": "dea88711-8722-4896-9885-9609b1696e16",
   "metadata": {
    "tags": []
   },
   "outputs": [],
   "source": [
    "TrainData=ChessPositionDataset(White_train,Black_train,White_label_train,Black_label_train)\n",
    "TestData=ChessPositionDataset(White_test,Black_test,White_label_test,Black_label_test)"
   ]
  },
  {
   "cell_type": "code",
   "execution_count": 97,
   "id": "1d3acf2e-e888-4043-9ded-7f7272d3156d",
   "metadata": {
    "tags": []
   },
   "outputs": [
    {
     "data": {
      "text/plain": [
       "18000"
      ]
     },
     "execution_count": 97,
     "metadata": {},
     "output_type": "execute_result"
    }
   ],
   "source": [
    "len(TrainData)"
   ]
  },
  {
   "cell_type": "code",
   "execution_count": 98,
   "id": "aa2d18c0-8dbd-40de-853d-e01dd84a4907",
   "metadata": {
    "tags": []
   },
   "outputs": [],
   "source": [
    "train_loader = DataLoader(TrainData, batch_size=500, shuffle=True)\n",
    "test_loader = DataLoader(TestData, batch_size=500)"
   ]
  },
  {
   "cell_type": "code",
   "execution_count": 99,
   "id": "0ffb3da4-1750-4561-a086-491e61dbe972",
   "metadata": {
    "tags": []
   },
   "outputs": [
    {
     "data": {
      "application/vnd.jupyter.widget-view+json": {
       "model_id": "87375a14b9f94525b897226aa2d71667",
       "version_major": 2,
       "version_minor": 0
      },
      "text/plain": [
       "  0%|          | 0/1000 [00:00<?, ?it/s]"
      ]
     },
     "metadata": {},
     "output_type": "display_data"
    },
    {
     "name": "stdout",
     "output_type": "stream",
     "text": [
      "epochs:0 loss:0.775261640548706\n",
      "epochs:100 loss:0.7952616214752197\n",
      "epochs:200 loss:0.7892615795135498\n",
      "epochs:300 loss:0.8192616105079651\n",
      "epochs:400 loss:0.8272615671157837\n",
      "epochs:500 loss:0.8172615766525269\n",
      "epochs:600 loss:0.8592616319656372\n",
      "epochs:700 loss:0.8032616376876831\n",
      "epochs:800 loss:0.8172615766525269\n",
      "epochs:900 loss:0.8272616863250732\n"
     ]
    }
   ],
   "source": [
    "model= DeepChess()\n",
    "optimizer=optim.Adam(model.parameters(),lr=0.01)\n",
    "criterion=nn.CrossEntropyLoss()\n",
    "\n",
    "num_epochs=1000\n",
    "\n",
    "for epochs in trange(num_epochs):\n",
    "    model.train()\n",
    "    for Win,Loss,Win_label,Loss_label in train_loader:\n",
    "        optimizer.zero_grad()\n",
    "        outputs=model(Win,Loss)\n",
    "        Label=torch.cat((Win_label,Loss_label),dim=1)\n",
    "        loss=criterion(outputs,Label)\n",
    "        loss.backward()\n",
    "        optimizer.step()\n",
    "    if epochs%100==0:\n",
    "        print(f\"epochs:{epochs} loss:{loss}\")"
   ]
  },
  {
   "cell_type": "code",
   "execution_count": 100,
   "id": "ac6f6557-6fda-41e5-95e2-dac5b6e5bbc6",
   "metadata": {
    "tags": []
   },
   "outputs": [
    {
     "data": {
      "text/plain": [
       "tensor(0.8193, grad_fn=<DivBackward1>)"
      ]
     },
     "execution_count": 100,
     "metadata": {},
     "output_type": "execute_result"
    }
   ],
   "source": [
    "loss"
   ]
  },
  {
   "cell_type": "code",
   "execution_count": 101,
   "id": "e0913c6b-caf3-45bc-bfd8-31709465a7e3",
   "metadata": {
    "tags": []
   },
   "outputs": [],
   "source": [
    "torch.save(model,\"DeepChess_model.pt\")\n",
    "torch.save(optimizer.state_dict,\"DeepChess_optimizer.pt\")"
   ]
  },
  {
   "cell_type": "markdown",
   "id": "9d99b30b-2810-438d-9330-b5104f163198",
   "metadata": {},
   "source": [
    "# Test"
   ]
  },
  {
   "cell_type": "code",
   "execution_count": null,
   "id": "1cbdc3f4-a4ca-447c-9726-2a81e83bc78f",
   "metadata": {},
   "outputs": [],
   "source": []
  },
  {
   "cell_type": "code",
   "execution_count": null,
   "id": "1f0b940a-ef9f-46f9-9532-486ae03f9b02",
   "metadata": {},
   "outputs": [],
   "source": []
  },
  {
   "cell_type": "code",
   "execution_count": null,
   "id": "5d09cd8a-b4f8-4013-b27a-45806e0c082b",
   "metadata": {},
   "outputs": [],
   "source": []
  }
 ],
 "metadata": {
  "kernelspec": {
   "display_name": "Python 3 (ipykernel)",
   "language": "python",
   "name": "python3"
  },
  "language_info": {
   "codemirror_mode": {
    "name": "ipython",
    "version": 3
   },
   "file_extension": ".py",
   "mimetype": "text/x-python",
   "name": "python",
   "nbconvert_exporter": "python",
   "pygments_lexer": "ipython3",
   "version": "3.11.1"
  }
 },
 "nbformat": 4,
 "nbformat_minor": 5
}
